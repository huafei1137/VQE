{
 "cells": [
  {
   "cell_type": "code",
   "execution_count": 16,
   "id": "148c44ab-d982-4174-8225-babeb36fc982",
   "metadata": {},
   "outputs": [
    {
     "name": "stderr",
     "output_type": "stream",
     "text": [
      "ibmqfactory.load_account:WARNING:2022-03-18 03:58:03,648: Credentials are already in use. The existing account in the session will be replaced.\n"
     ]
    }
   ],
   "source": [
    "import numpy as np\n",
    "\n",
    "# Importing standard Qiskit libraries\n",
    "from qiskit import QuantumCircuit, transpile, Aer, IBMQ\n",
    "from qiskit.tools.jupyter import *\n",
    "from qiskit.visualization import *\n",
    "from ibm_quantum_widgets import *\n",
    "from qiskit.providers.aer import QasmSimulator\n",
    "from qiskit import QuantumRegister, ClassicalRegister, QuantumCircuit\n",
    "from qiskit import IBMQ, QuantumCircuit\n",
    "from qiskit.providers.ibmq import RunnerResult\n",
    "from qiskit.tools.monitor import job_monitor\n",
    "# Loading your IBM Quantum account(s)\n",
    "provider = IBMQ.load_account()"
   ]
  },
  {
   "cell_type": "code",
   "execution_count": 21,
   "id": "31e1f35c-acf2-4ad1-b7aa-cb1aa4a3e362",
   "metadata": {},
   "outputs": [
    {
     "name": "stdout",
     "output_type": "stream",
     "text": [
      "<AccountProvider for IBMQ(hub='ibm-q-pnnl', group='internal', project='default')>\n",
      "ibmq_mumbai\n"
     ]
    },
    {
     "data": {
      "text/plain": [
       "[<IBMQSimulator('ibmq_qasm_simulator') from IBMQ(hub='ibm-q-pnnl', group='internal', project='default')>,\n",
       " <IBMQBackend('ibmq_armonk') from IBMQ(hub='ibm-q-pnnl', group='internal', project='default')>,\n",
       " <IBMQBackend('ibmq_montreal') from IBMQ(hub='ibm-q-pnnl', group='internal', project='default')>,\n",
       " <IBMQBackend('ibmq_toronto') from IBMQ(hub='ibm-q-pnnl', group='internal', project='default')>,\n",
       " <IBMQBackend('ibmq_santiago') from IBMQ(hub='ibm-q-pnnl', group='internal', project='default')>,\n",
       " <IBMQBackend('ibmq_bogota') from IBMQ(hub='ibm-q-pnnl', group='internal', project='default')>,\n",
       " <IBMQBackend('ibmq_mumbai') from IBMQ(hub='ibm-q-pnnl', group='internal', project='default')>,\n",
       " <IBMQBackend('ibmq_lima') from IBMQ(hub='ibm-q-pnnl', group='internal', project='default')>,\n",
       " <IBMQBackend('ibmq_belem') from IBMQ(hub='ibm-q-pnnl', group='internal', project='default')>,\n",
       " <IBMQBackend('ibmq_quito') from IBMQ(hub='ibm-q-pnnl', group='internal', project='default')>,\n",
       " <IBMQBackend('ibmq_guadalupe') from IBMQ(hub='ibm-q-pnnl', group='internal', project='default')>,\n",
       " <IBMQBackend('ibmq_brooklyn') from IBMQ(hub='ibm-q-pnnl', group='internal', project='default')>,\n",
       " <IBMQBackend('ibmq_jakarta') from IBMQ(hub='ibm-q-pnnl', group='internal', project='default')>,\n",
       " <IBMQBackend('ibmq_manila') from IBMQ(hub='ibm-q-pnnl', group='internal', project='default')>,\n",
       " <IBMQBackend('ibm_hanoi') from IBMQ(hub='ibm-q-pnnl', group='internal', project='default')>,\n",
       " <IBMQBackend('ibm_lagos') from IBMQ(hub='ibm-q-pnnl', group='internal', project='default')>,\n",
       " <IBMQBackend('ibm_cairo') from IBMQ(hub='ibm-q-pnnl', group='internal', project='default')>,\n",
       " <IBMQBackend('ibm_auckland') from IBMQ(hub='ibm-q-pnnl', group='internal', project='default')>,\n",
       " <IBMQBackend('ibm_perth') from IBMQ(hub='ibm-q-pnnl', group='internal', project='default')>,\n",
       " <IBMQBackend('ibm_washington') from IBMQ(hub='ibm-q-pnnl', group='internal', project='default')>]"
      ]
     },
     "execution_count": 21,
     "metadata": {},
     "output_type": "execute_result"
    }
   ],
   "source": [
    "provider = IBMQ.get_provider(hub='ibm-q-pnnl', group='internal', project='default')\n",
    "mybackend = provider.get_backend('ibmq_mumbai')\n",
    "print(provider)\n",
    "print(mybackend)\n",
    "provider = IBMQ.get_provider(hub='ibm-q-pnnl', group='internal', project='default')\n",
    "provider.backends()"
   ]
  },
  {
   "cell_type": "code",
   "execution_count": 22,
   "id": "15e5bc92-78eb-41c0-ad61-959990bb0c9a",
   "metadata": {},
   "outputs": [
    {
     "name": "stdout",
     "output_type": "stream",
     "text": [
      "==================================================\n",
      "hello-world:\n",
      "  Name: hello-world\n",
      "  Description: A sample runtime program.\n",
      "==================================================\n",
      "qaoa:\n",
      "  Name: qaoa\n",
      "  Description: Qiskit Runtime QAOA program\n",
      "==================================================\n",
      "torch-train:\n",
      "  Name: torch-train\n",
      "  Description: A runtime program to train hybrid QNN models with Pytorch.\n",
      "==================================================\n",
      "torch-infer:\n",
      "  Name: torch-infer\n",
      "  Description: A runtime program to run inference and calculate the scores of Hybrid QNN models with Pytorch.\n",
      "==================================================\n",
      "qasm3-runner:\n",
      "  Name: qasm3-runner\n",
      "  Description: A runtime program that takes one or more circuits, converts them to OpenQASM3, compiles them, executes them, and optionally applies measurement error mitigation. This program can also take and execute one or more OpenQASM3 strings. Note that this program can only run on a backend that supports OpenQASM3.\n",
      "==================================================\n",
      "sampler:\n",
      "  Name: sampler\n",
      "  Description: Generates quasi-probabilities by sampling quantum circuits.\n",
      "==================================================\n",
      "estimator:\n",
      "  Name: estimator\n",
      "  Description: Calculates expectation values of quantum operators.\n",
      "==================================================\n",
      "sample-expval:\n",
      "  Name: sample-expval\n",
      "  Description: A sample expectation value program.\n",
      "==================================================\n",
      "vqe:\n",
      "  Name: vqe\n",
      "  Description: Variational Quantum Eigensolver (VQE) to find the minimal eigenvalue of a Hamiltonian.\n",
      "==================================================\n",
      "circuit-runner:\n",
      "  Name: circuit-runner\n",
      "  Description: A runtime program that takes one or more circuits, compiles them, executes them, and optionally applies measurement error mitigation.\n",
      "==================================================\n",
      "sample-program:\n",
      "  Name: sample-program\n",
      "  Description: (DEPRECATED) A sample runtime program. This runtime program is deprecated, please use hello-world instead.\n",
      "==================================================\n",
      "quantum-kernel-alignment:\n",
      "  Name: quantum-kernel-alignment\n",
      "  Description: Quantum kernel alignment algorithm that learns, on a given dataset, a quantum kernel maximizing the SVM classification margin.\n"
     ]
    }
   ],
   "source": [
    "rt = provider.runtime\n",
    "provider.runtime.pprint_programs()"
   ]
  },
  {
   "cell_type": "code",
   "execution_count": 33,
   "metadata": {},
   "outputs": [
    {
     "name": "stdout",
     "output_type": "stream",
     "text": [
      "{'000000000000000000000000000': 4000}\n"
     ]
    }
   ],
   "source": [
    "qc = QuantumCircuit.from_qasm_file('schedule3.qasm')\n",
    "qc.measure_all()\n",
    "# qc.draw(output='mpl')\n",
    "from qiskit import QuantumCircuit, Aer, execute\n",
    "simbackend = provider.get_backend('ibmq_qasm_simulator')\n",
    "job = execute(qc, simbackend)\n",
    "result = job.result()\n",
    "print(result.get_counts())"
   ]
  },
  {
   "cell_type": "code",
   "execution_count": 29,
   "id": "882a457c",
   "metadata": {},
   "outputs": [
    {
     "name": "stdout",
     "output_type": "stream",
     "text": [
      "[0, 1, 2, 3, 4, 5, 6, 7, 8, 9, 10, 11, 12, 13, 14, 15, 16, 17, 18, 19, 20, 21, 22, 23, 24, 25, 26]\n"
     ]
    }
   ],
   "source": [
    "cplist = [i for i in range(27)]\n",
    "print(cplist)"
   ]
  },
  {
   "cell_type": "code",
   "execution_count": 34,
   "id": "333d13d4-261c-4498-966f-d2305416a3d6",
   "metadata": {},
   "outputs": [],
   "source": [
    "from qiskit.tools.monitor import job_monitor\n",
    "shots = 20000\n",
    "params = provider.runtime.program(program_id=\"circuit-runner\").parameters()\n",
    "program_inputs = {\n",
    "    'circuits': qc,\n",
    "    'shots': shots,\n",
    "    'optimization_level': 0,\n",
    "    #'iterations': 5,\n",
    "    # 'initial_layout': [0,1,2,3,4,5,6],\n",
    "    'measurement_error_mitigation': True,\n",
    "}\n",
    "# params.circuits = circuit\n",
    "# params.measurement_error_mitigation = True\n",
    "# program_inputs = {\n",
    "#     'iterations': 3\n",
    "# }\n",
    "# Configure backend options\n",
    "options = {'backend_name': mybackend.name()}\n",
    "\n",
    "# Execute the circuit using the \"circuit-runner\" program.\n",
    "job = provider.runtime.run(program_id=\"circuit-runner\",\n",
    "                        options=options,\n",
    "                        inputs=program_inputs)\n",
    "\n",
    "# Get runtime job result.\n",
    "# job_monitor(job)\n",
    "result = job.result(decoder=RunnerResult)\n",
    "\n",
    "counts = result.get_counts()\n",
    "print(counts)\n"
   ]
  },
  {
   "cell_type": "code",
   "execution_count": 7,
   "id": "59252c88-7f89-462a-9c3d-4c4e5b446066",
   "metadata": {},
   "outputs": [],
   "source": [
    "def crosstest( list ):\n",
    "    q = QuantumRegister(7, 'q')\n",
    "    c = ClassicalRegister(7, 'c')\n",
    "    circuit2 = QuantumCircuit(q, c)\n",
    "    circuit2.x(q[list[0]])\n",
    "    circuit2.x(q[list[2]])\n",
    "    circuit2.cx(q[list[0]], q[list[1]])\n",
    "    #circuit2.barrier()\n",
    "    circuit2.cx(q[list[2]], q[list[1]])\n",
    "    circuit2.cx(q[list[2]], [list[3]])\n",
    "    circuit2.measure(q[list[0]],c[list[0]])\n",
    "    circuit2.measure(q[list[1]],c[list[1]])\n",
    "    circuit2.measure(q[list[2]],c[list[2]])\n",
    "    circuit2.measure(q[list[3]],c[list[3]])\n",
    "    #circuit2.draw(output = 'mpl')\n",
    "    string = \"0000000\"\n",
    "    shots = 20000\n",
    "    for i in list:\n",
    "        string = string[:i] + '1' + string[i + 1:]\n",
    "    string = string[:list[1]] + '0' + string[list[1] + 1:]\n",
    "    string = string[::-1]\n",
    "    print(string)\n",
    "    \n",
    "    params = provider.runtime.program(program_id=\"circuit-runner\").parameters()\n",
    "    program_inputs = {\n",
    "        'circuits': circuit2,\n",
    "        'shots': shots,\n",
    "        'optimization_level': 0,\n",
    "        #'iterations': 5,\n",
    "        'initial_layout': [0,1,2,3,4,5,6],\n",
    "        'measurement_error_mitigation': True,\n",
    "    }\n",
    "# params.circuits = circuit\n",
    "# params.measurement_error_mitigation = True\n",
    "# program_inputs = {\n",
    "#     'iterations': 3\n",
    "# }\n",
    "# Configure backend options\n",
    "    options = {'backend_name': mybackend.name()}\n",
    "\n",
    "# Execute the circuit using the \"circuit-runner\" program.\n",
    "    job = provider.runtime.run(program_id=\"circuit-runner\",\n",
    "                               options=options,\n",
    "                               inputs=program_inputs)\n",
    "\n",
    "# Get runtime job result.\n",
    "    result = job.result(decoder=RunnerResult)\n",
    "    \n",
    "    counts = result.get_counts()\n",
    "    print(counts)\n",
    "    error_rate = 1 - counts[string] / shots\n",
    "    return error_rate"
   ]
  },
  {
   "cell_type": "code",
   "execution_count": 8,
   "id": "85a9ea2b-7a40-436d-8be7-3ece65fd40a0",
   "metadata": {},
   "outputs": [],
   "source": [
    "def barriertest( list ):\n",
    "    q = QuantumRegister(7, 'q')\n",
    "    c = ClassicalRegister(7, 'c')\n",
    "    circuit2 = QuantumCircuit(q, c)\n",
    "    circuit2.x(q[list[0]])\n",
    "    circuit2.barrier()\n",
    "    circuit2.x(q[list[2]])\n",
    "    circuit2.cx(q[list[0]], q[list[1]])\n",
    "    circuit2.cx(q[list[2]], [list[3]])\n",
    "    circuit2.measure(q[list[0]],c[list[0]])\n",
    "    circuit2.measure(q[list[1]],c[list[1]])\n",
    "    circuit2.measure(q[list[2]],c[list[2]])\n",
    "    circuit2.measure(q[list[3]],c[list[3]])\n",
    "    #circuit2.draw(output = 'mpl')\n",
    "    string = \"0000000\"\n",
    "    shots = 20000\n",
    "    for i in list:\n",
    "        string = string[:i] + '1' + string[i + 1:]\n",
    "    #string = string[:list[1]] + '0' + string[list[1] + 1:]\n",
    "    string = string[::-1]\n",
    "    print(string)\n",
    "    \n",
    "    params = provider.runtime.program(program_id=\"circuit-runner\").parameters()\n",
    "    program_inputs = {\n",
    "        'circuits': circuit2,\n",
    "        'shots': shots,\n",
    "        'optimization_level': 0,\n",
    "        #'iterations': 5,\n",
    "        'initial_layout': [0,1,2,3,4,5,6],\n",
    "        'measurement_error_mitigation': True,\n",
    "    }\n",
    "# params.circuits = circuit\n",
    "# params.measurement_error_mitigation = True\n",
    "# program_inputs = {\n",
    "#     'iterations': 3\n",
    "# }\n",
    "# Configure backend options\n",
    "    options = {'backend_name': mybackend.name()}\n",
    "\n",
    "# Execute the circuit using the \"circuit-runner\" program.\n",
    "    job = provider.runtime.run(program_id=\"circuit-runner\",\n",
    "                               options=options,\n",
    "                               inputs=program_inputs)\n",
    "\n",
    "# Get runtime job result.\n",
    "    result = job.result(decoder=RunnerResult)\n",
    "    \n",
    "    counts = result.get_counts()\n",
    "    print(counts)\n",
    "    error_rate = 1 - counts[string] / shots\n",
    "    return error_rate"
   ]
  },
  {
   "cell_type": "code",
   "execution_count": 9,
   "id": "54e3a128-bb52-43a3-9a15-9db88cfbc06c",
   "metadata": {},
   "outputs": [
    {
     "data": {
      "text/plain": [
       "'0.19.0'"
      ]
     },
     "execution_count": 9,
     "metadata": {},
     "output_type": "execute_result"
    }
   ],
   "source": [
    "import qiskit\n",
    "qiskit.__version__"
   ]
  },
  {
   "cell_type": "code",
   "execution_count": null,
   "id": "80933914-f4fd-44e4-a1a9-aeb6eece7139",
   "metadata": {},
   "outputs": [
    {
     "name": "stdout",
     "output_type": "stream",
     "text": [
      "1101010\n"
     ]
    }
   ],
   "source": [
    "list = [1,3,5,6]\n",
    "res = runtimetest(list)\n",
    "print(res)"
   ]
  },
  {
   "cell_type": "code",
   "execution_count": null,
   "id": "0f19f186-8bc9-45be-b1e7-d7ef94346fda",
   "metadata": {},
   "outputs": [],
   "source": [
    "crossres = crosstest(list)\n",
    "print(crossres)"
   ]
  },
  {
   "cell_type": "code",
   "execution_count": null,
   "id": "249140b4-6beb-4d15-92c4-ef15426e93fe",
   "metadata": {},
   "outputs": [],
   "source": [
    "from numpy import mean\n",
    "list = [1,3,4,5]\n",
    "nocross = []\n",
    "cross = []\n",
    "for x in range(10):\n",
    "    cur = runtimetest(list)\n",
    "    cur2 = barriertest(list)\n",
    "    nocross.append(cur)\n",
    "    cross.append(cur2)\n",
    "    print(f\"no cross error rate {cur}\")\n",
    "    print(f\"cross error rate {cur2}\")\n",
    "\n",
    "print(f\"no cross average error rate {mean(nocross)}\")\n",
    "print(f\" cross average error rate {mean(cross)}\")\n"
   ]
  },
  {
   "cell_type": "code",
   "execution_count": null,
   "id": "563ae17c-8fbf-44aa-9566-76d520c25683",
   "metadata": {},
   "outputs": [],
   "source": []
  }
 ],
 "metadata": {
  "kernelspec": {
   "display_name": "Qiskit v0.33.1 (ipykernel)",
   "language": "python",
   "name": "python3"
  },
  "language_info": {
   "codemirror_mode": {
    "name": "ipython",
    "version": 3
   },
   "file_extension": ".py",
   "mimetype": "text/x-python",
   "name": "python",
   "nbconvert_exporter": "python",
   "pygments_lexer": "ipython3",
   "version": "3.9.7"
  },
  "widgets": {
   "application/vnd.jupyter.widget-state+json": {
    "state": {},
    "version_major": 2,
    "version_minor": 0
   }
  }
 },
 "nbformat": 4,
 "nbformat_minor": 5
}
