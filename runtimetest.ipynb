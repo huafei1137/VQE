{
 "cells": [
  {
   "cell_type": "code",
   "execution_count": 1,
   "id": "148c44ab-d982-4174-8225-babeb36fc982",
   "metadata": {},
   "outputs": [],
   "source": [
    "import numpy as np\n",
    "\n",
    "# Importing standard Qiskit libraries\n",
    "from qiskit import QuantumCircuit, transpile, Aer, IBMQ\n",
    "from qiskit.tools.jupyter import *\n",
    "from qiskit.visualization import *\n",
    "from ibm_quantum_widgets import *\n",
    "from qiskit.providers.aer import QasmSimulator\n",
    "from qiskit import QuantumRegister, ClassicalRegister, QuantumCircuit\n",
    "from qiskit import IBMQ, QuantumCircuit\n",
    "from qiskit.providers.ibmq import RunnerResult\n",
    "from qiskit.tools.monitor import job_monitor\n",
    "# Loading your IBM Quantum account(s)\n",
    "provider = IBMQ.load_account()"
   ]
  },
  {
   "cell_type": "code",
   "execution_count": 2,
   "id": "31e1f35c-acf2-4ad1-b7aa-cb1aa4a3e362",
   "metadata": {},
   "outputs": [
    {
     "name": "stdout",
     "output_type": "stream",
     "text": [
      "<AccountProvider for IBMQ(hub='ibm-q-pnnl', group='internal', project='default')>\n",
      "ibmq_mumbai\n"
     ]
    },
    {
     "data": {
      "text/plain": [
       "[<IBMQSimulator('ibmq_qasm_simulator') from IBMQ(hub='ibm-q-pnnl', group='internal', project='default')>,\n",
       " <IBMQBackend('ibmq_armonk') from IBMQ(hub='ibm-q-pnnl', group='internal', project='default')>,\n",
       " <IBMQBackend('ibmq_montreal') from IBMQ(hub='ibm-q-pnnl', group='internal', project='default')>,\n",
       " <IBMQBackend('ibmq_toronto') from IBMQ(hub='ibm-q-pnnl', group='internal', project='default')>,\n",
       " <IBMQBackend('ibmq_santiago') from IBMQ(hub='ibm-q-pnnl', group='internal', project='default')>,\n",
       " <IBMQBackend('ibmq_bogota') from IBMQ(hub='ibm-q-pnnl', group='internal', project='default')>,\n",
       " <IBMQBackend('ibmq_mumbai') from IBMQ(hub='ibm-q-pnnl', group='internal', project='default')>,\n",
       " <IBMQBackend('ibmq_lima') from IBMQ(hub='ibm-q-pnnl', group='internal', project='default')>,\n",
       " <IBMQBackend('ibmq_belem') from IBMQ(hub='ibm-q-pnnl', group='internal', project='default')>,\n",
       " <IBMQBackend('ibmq_quito') from IBMQ(hub='ibm-q-pnnl', group='internal', project='default')>,\n",
       " <IBMQBackend('ibmq_guadalupe') from IBMQ(hub='ibm-q-pnnl', group='internal', project='default')>,\n",
       " <IBMQBackend('ibmq_brooklyn') from IBMQ(hub='ibm-q-pnnl', group='internal', project='default')>,\n",
       " <IBMQBackend('ibmq_jakarta') from IBMQ(hub='ibm-q-pnnl', group='internal', project='default')>,\n",
       " <IBMQBackend('ibmq_manila') from IBMQ(hub='ibm-q-pnnl', group='internal', project='default')>,\n",
       " <IBMQBackend('ibm_hanoi') from IBMQ(hub='ibm-q-pnnl', group='internal', project='default')>,\n",
       " <IBMQBackend('ibm_lagos') from IBMQ(hub='ibm-q-pnnl', group='internal', project='default')>,\n",
       " <IBMQBackend('ibm_cairo') from IBMQ(hub='ibm-q-pnnl', group='internal', project='default')>,\n",
       " <IBMQBackend('ibm_auckland') from IBMQ(hub='ibm-q-pnnl', group='internal', project='default')>,\n",
       " <IBMQBackend('ibm_perth') from IBMQ(hub='ibm-q-pnnl', group='internal', project='default')>,\n",
       " <IBMQBackend('ibm_washington') from IBMQ(hub='ibm-q-pnnl', group='internal', project='default')>]"
      ]
     },
     "execution_count": 2,
     "metadata": {},
     "output_type": "execute_result"
    }
   ],
   "source": [
    "provider = IBMQ.get_provider(hub='ibm-q-pnnl', group='internal', project='default')\n",
    "mybackend = provider.get_backend('ibmq_mumbai')\n",
    "smallbackend = provider.get_backend('ibmq_santiago')\n",
    "print(provider)\n",
    "print(mybackend)\n",
    "provider = IBMQ.get_provider(hub='ibm-q-pnnl', group='internal', project='default')\n",
    "provider.backends()"
   ]
  },
  {
   "cell_type": "code",
   "execution_count": 3,
   "id": "15e5bc92-78eb-41c0-ad61-959990bb0c9a",
   "metadata": {},
   "outputs": [
    {
     "name": "stdout",
     "output_type": "stream",
     "text": [
      "==================================================\n",
      "hello-world:\n",
      "  Name: hello-world\n",
      "  Description: A sample runtime program.\n",
      "==================================================\n",
      "qaoa:\n",
      "  Name: qaoa\n",
      "  Description: Qiskit Runtime QAOA program\n",
      "==================================================\n",
      "torch-train:\n",
      "  Name: torch-train\n",
      "  Description: A runtime program to train hybrid QNN models with Pytorch.\n",
      "==================================================\n",
      "torch-infer:\n",
      "  Name: torch-infer\n",
      "  Description: A runtime program to run inference and calculate the scores of Hybrid QNN models with Pytorch.\n",
      "==================================================\n",
      "qasm3-runner:\n",
      "  Name: qasm3-runner\n",
      "  Description: A runtime program that takes one or more circuits, converts them to OpenQASM3, compiles them, executes them, and optionally applies measurement error mitigation. This program can also take and execute one or more OpenQASM3 strings. Note that this program can only run on a backend that supports OpenQASM3.\n",
      "==================================================\n",
      "sampler:\n",
      "  Name: sampler\n",
      "  Description: Generates quasi-probabilities by sampling quantum circuits.\n",
      "==================================================\n",
      "estimator:\n",
      "  Name: estimator\n",
      "  Description: Calculates expectation values of quantum operators.\n",
      "==================================================\n",
      "sample-expval:\n",
      "  Name: sample-expval\n",
      "  Description: A sample expectation value program.\n",
      "==================================================\n",
      "vqe:\n",
      "  Name: vqe\n",
      "  Description: Variational Quantum Eigensolver (VQE) to find the minimal eigenvalue of a Hamiltonian.\n",
      "==================================================\n",
      "circuit-runner:\n",
      "  Name: circuit-runner\n",
      "  Description: A runtime program that takes one or more circuits, compiles them, executes them, and optionally applies measurement error mitigation.\n",
      "==================================================\n",
      "sample-program:\n",
      "  Name: sample-program\n",
      "  Description: (DEPRECATED) A sample runtime program. This runtime program is deprecated, please use hello-world instead.\n",
      "==================================================\n",
      "quantum-kernel-alignment:\n",
      "  Name: quantum-kernel-alignment\n",
      "  Description: Quantum kernel alignment algorithm that learns, on a given dataset, a quantum kernel maximizing the SVM classification margin.\n"
     ]
    }
   ],
   "source": [
    "rt = provider.runtime\n",
    "provider.runtime.pprint_programs()"
   ]
  },
  {
   "cell_type": "code",
   "execution_count": 4,
   "metadata": {},
   "outputs": [
    {
     "name": "stdout",
     "output_type": "stream",
     "text": [
      "5\n"
     ]
    },
    {
     "data": {
      "image/png": "[encoded data removed]",
      "text/plain": [
       "<Figure size 1049.8x385.28 with 1 Axes>"
      ]
     },
     "execution_count": 4,
     "metadata": {},
     "output_type": "execute_result"
    }
   ],
   "source": [
    "qc = QuantumCircuit.from_qasm_file('schedule2.qasm')\n",
    "mrange = [i for i in range(5) ]\n",
    "qc.measure(mrange, mrange)\n",
    "print(len(qc.qubits))\n",
    "qc.draw(output='mpl')\n",
    "# from qiskit import QuantumCircuit, Aer, execute\n",
    "# simbackend = provider.get_backend('ibmq_qasm_simulator')\n",
    "# job = execute(qc, simbackend)\n",
    "# result = job.result()\n",
    "# print(result.get_counts())"
   ]
  },
  {
   "cell_type": "code",
   "execution_count": 5,
   "id": "4bca4fb8",
   "metadata": {},
   "outputs": [
    {
     "name": "stdout",
     "output_type": "stream",
     "text": [
      "{'00000000 00000000': 4000}\n"
     ]
    }
   ],
   "source": [
    "qc_base = QuantumCircuit.from_qasm_file('schedule_baseline.qasm')\n",
    "qc_base.measure_all()\n",
    "# qc.draw(output='mpl')\n",
    "from qiskit import QuantumCircuit, Aer, execute\n",
    "simbackend = provider.get_backend('ibmq_qasm_simulator')\n",
    "job = execute(qc_base, simbackend)\n",
    "result = job.result()\n",
    "print(result.get_counts())"
   ]
  },
  {
   "cell_type": "code",
   "execution_count": 6,
   "id": "882a457c",
   "metadata": {},
   "outputs": [
    {
     "name": "stdout",
     "output_type": "stream",
     "text": [
      "[0, 1, 2, 3, 4, 5, 6, 7, 8, 9, 10, 11, 12, 13, 14, 15, 16, 17, 18, 19, 20, 21, 22, 23, 24, 25, 26]\n"
     ]
    }
   ],
   "source": [
    "cplist = [i for i in range(27)]\n",
    "print(cplist)"
   ]
  },
  {
   "cell_type": "code",
   "execution_count": 51,
   "id": "333d13d4-261c-4498-966f-d2305416a3d6",
   "metadata": {},
   "outputs": [],
   "source": [
    "# from qiskit.tools.monitor import job_monitor\n",
    "# shots = 20000\n",
    "# params = provider.runtime.program(program_id=\"circuit-runner\").parameters()\n",
    "# program_inputs = {\n",
    "#     'circuits': qc,\n",
    "#     'shots': shots,\n",
    "#     'optimization_level': 0,\n",
    "#     #'iterations': 5,\n",
    "#     # 'initial_layout': [0,1,2,3,4,5,6],\n",
    "#     'measurement_error_mitigation': True,\n",
    "# }\n",
    "# # params.circuits = circuit\n",
    "# # params.measurement_error_mitigation = True\n",
    "# # program_inputs = {\n",
    "# #     'iterations': 3\n",
    "# # }\n",
    "# # Configure backend options\n",
    "# options = {'backend_name': mybackend.name()}\n",
    "\n",
    "# # Execute the circuit using the \"circuit-runner\" program.\n",
    "# job = provider.runtime.run(program_id=\"circuit-runner\",\n",
    "#                         options=options,\n",
    "#                         inputs=program_inputs)\n",
    "\n",
    "# # Get runtime job result.\n",
    "# # job_monitor(job)\n",
    "# result = job.result(decoder=RunnerResult)\n",
    "\n",
    "# counts = result.get_counts()\n",
    "# print(counts)\n"
   ]
  },
  {
   "cell_type": "code",
   "execution_count": 47,
   "id": "5baaf1e5",
   "metadata": {},
   "outputs": [
    {
     "name": "stdout",
     "output_type": "stream",
     "text": [
      "{'00000': 5901, '00001': 1239, '10000': 348, '10001': 73, '10010': 210, '10011': 54, '10100': 105, '10101': 50, '10110': 88, '10111': 64, '11000': 42, '11001': 12, '11010': 33, '11011': 14, '11100': 41, '11101': 24, '11110': 58, '11111': 31, '00010': 3670, '00011': 922, '00100': 1361, '00101': 511, '00110': 1321, '00111': 742, '01000': 579, '01001': 163, '01010': 336, '01011': 170, '01100': 627, '01101': 203, '01110': 724, '01111': 284}\n"
     ]
    }
   ],
   "source": [
    "from qiskit.tools.monitor import job_monitor\n",
    "shots = 20000\n",
    "params = provider.runtime.program(program_id=\"circuit-runner\").parameters()\n",
    "program_inputs = {\n",
    "    'circuits': qc_base,\n",
    "    'shots': shots,\n",
    "    'optimization_level': 0,\n",
    "    #'iterations': 5,\n",
    "    # 'initial_layout': [0,1,2,3,4,5,6],\n",
    "    'measurement_error_mitigation': True,\n",
    "}\n",
    "# params.circuits = circuit\n",
    "# params.measurement_error_mitigation = True\n",
    "# program_inputs = {\n",
    "#     'iterations': 3\n",
    "# }\n",
    "# Configure backend options\n",
    "options = {'backend_name': smallbackend.name()}\n",
    "\n",
    "# Execute the circuit using the \"circuit-runner\" program.\n",
    "job = provider.runtime.run(program_id=\"circuit-runner\",\n",
    "                        options=options,\n",
    "                        inputs=program_inputs)\n",
    "\n",
    "# Get runtime job result.\n",
    "# job_monitor(job)\n",
    "result = job.result(decoder=RunnerResult)\n",
    "\n",
    "counts = result.get_counts()\n",
    "print(counts)\n"
   ]
  },
  {
   "cell_type": "code",
   "execution_count": 49,
   "id": "cd7db0b2",
   "metadata": {},
   "outputs": [
    {
     "name": "stdout",
     "output_type": "stream",
     "text": [
      "0.3095\n"
     ]
    }
   ],
   "source": [
    "print(counts['000000000000000000000000000']/shots)"
   ]
  },
  {
   "cell_type": "code",
   "execution_count": 7,
   "id": "59252c88-7f89-462a-9c3d-4c4e5b446066",
   "metadata": {},
   "outputs": [],
   "source": [
    "def crosstest( list ):\n",
    "    q = QuantumRegister(7, 'q')\n",
    "    c = ClassicalRegister(7, 'c')\n",
    "    circuit2 = QuantumCircuit(q, c)\n",
    "    circuit2.x(q[list[0]])\n",
    "    circuit2.x(q[list[2]])\n",
    "    circuit2.cx(q[list[0]], q[list[1]])\n",
    "    #circuit2.barrier()\n",
    "    circuit2.cx(q[list[2]], q[list[1]])\n",
    "    circuit2.cx(q[list[2]], [list[3]])\n",
    "    circuit2.measure(q[list[0]],c[list[0]])\n",
    "    circuit2.measure(q[list[1]],c[list[1]])\n",
    "    circuit2.measure(q[list[2]],c[list[2]])\n",
    "    circuit2.measure(q[list[3]],c[list[3]])\n",
    "    #circuit2.draw(output = 'mpl')\n",
    "    string = \"0000000\"\n",
    "    shots = 20000\n",
    "    for i in list:\n",
    "        string = string[:i] + '1' + string[i + 1:]\n",
    "    string = string[:list[1]] + '0' + string[list[1] + 1:]\n",
    "    string = string[::-1]\n",
    "    print(string)\n",
    "    \n",
    "    params = provider.runtime.program(program_id=\"circuit-runner\").parameters()\n",
    "    program_inputs = {\n",
    "        'circuits': circuit2,\n",
    "        'shots': shots,\n",
    "        'optimization_level': 0,\n",
    "        #'iterations': 5,\n",
    "        'initial_layout': [0,1,2,3,4,5,6],\n",
    "        'measurement_error_mitigation': True,\n",
    "    }\n",
    "# params.circuits = circuit\n",
    "# params.measurement_error_mitigation = True\n",
    "# program_inputs = {\n",
    "#     'iterations': 3\n",
    "# }\n",
    "# Configure backend options\n",
    "    options = {'backend_name': mybackend.name()}\n",
    "\n",
    "# Execute the circuit using the \"circuit-runner\" program.\n",
    "    job = provider.runtime.run(program_id=\"circuit-runner\",\n",
    "                               options=options,\n",
    "                               inputs=program_inputs)\n",
    "\n",
    "# Get runtime job result.\n",
    "    result = job.result(decoder=RunnerResult)\n",
    "    \n",
    "    counts = result.get_counts()\n",
    "    print(counts)\n",
    "    error_rate = 1 - counts[string] / shots\n",
    "    return error_rate"
   ]
  },
  {
   "cell_type": "code",
   "execution_count": 9,
   "id": "54e3a128-bb52-43a3-9a15-9db88cfbc06c",
   "metadata": {},
   "outputs": [
    {
     "data": {
      "text/plain": [
       "'0.19.0'"
      ]
     },
     "execution_count": 9,
     "metadata": {},
     "output_type": "execute_result"
    }
   ],
   "source": [
    "import qiskit\n",
    "qiskit.__version__"
   ]
  },
  {
   "cell_type": "code",
   "execution_count": null,
   "id": "80933914-f4fd-44e4-a1a9-aeb6eece7139",
   "metadata": {},
   "outputs": [
    {
     "name": "stdout",
     "output_type": "stream",
     "text": [
      "1101010\n"
     ]
    }
   ],
   "source": [
    "list = [1,3,5,6]\n",
    "res = runtimetest(list)\n",
    "print(res)"
   ]
  },
  {
   "cell_type": "code",
   "execution_count": null,
   "id": "0f19f186-8bc9-45be-b1e7-d7ef94346fda",
   "metadata": {},
   "outputs": [],
   "source": [
    "crossres = crosstest(list)\n",
    "print(crossres)"
   ]
  },
  {
   "cell_type": "code",
   "execution_count": null,
   "id": "249140b4-6beb-4d15-92c4-ef15426e93fe",
   "metadata": {},
   "outputs": [],
   "source": [
    "from numpy import mean\n",
    "list = [1,3,4,5]\n",
    "nocross = []\n",
    "cross = []\n",
    "for x in range(10):\n",
    "    cur = runtimetest(list)\n",
    "    cur2 = barriertest(list)\n",
    "    nocross.append(cur)\n",
    "    cross.append(cur2)\n",
    "    print(f\"no cross error rate {cur}\")\n",
    "    print(f\"cross error rate {cur2}\")\n",
    "\n",
    "print(f\"no cross average error rate {mean(nocross)}\")\n",
    "print(f\" cross average error rate {mean(cross)}\")\n"
   ]
  },
  {
   "cell_type": "code",
   "execution_count": 8,
   "id": "563ae17c-8fbf-44aa-9566-76d520c25683",
   "metadata": {},
   "outputs": [],
   "source": [
    "def runtime_test(circuit,backend):\n",
    "    shots = 20000\n",
    "    qc = QuantumCircuit.from_qasm_file(circuit)\n",
    "    qnum = len(qc.qubits)\n",
    "    mrange = [i for i in range(qnum) ]\n",
    "    qc.measure(mrange, mrange)\n",
    "    \n",
    "    mybackend = provider.get_backend(backend)\n",
    "    params = provider.runtime.program(program_id=\"circuit-runner\").parameters()\n",
    "    program_inputs = {\n",
    "        'circuits': qc,\n",
    "        'shots': shots,\n",
    "        'optimization_level': 2,\n",
    "        #'iterations': 5,\n",
    "        'initial_layout': mrange,\n",
    "        'measurement_error_mitigation': True,\n",
    "    }\n",
    "    # params.circuits = circuit\n",
    "    # params.measurement_error_mitigation = True\n",
    "    # program_inputs = {\n",
    "    #     'iterations': 3\n",
    "    # }\n",
    "    # Configure backend options\n",
    "    options = {'backend_name': mybackend.name()}\n",
    "\n",
    "    # Execute the circuit using the \"circuit-runner\" program.\n",
    "    job = provider.runtime.run(program_id=\"circuit-runner\",\n",
    "                            options=options,\n",
    "                            inputs=program_inputs)\n",
    "\n",
    "    # Get runtime job result.\n",
    "    # job_monitor(job)\n",
    "    result = job.result(decoder=RunnerResult)\n",
    "\n",
    "    counts = result.get_counts()\n",
    "    print(counts)\n",
    "    return counts"
   ]
  },
  {
   "cell_type": "code",
   "execution_count": 76,
   "id": "016b5508",
   "metadata": {},
   "outputs": [],
   "source": [
    "# qc_base = QuantumCircuit.from_qasm_file('schedule_baseline.qasm')\n",
    "\n",
    "# runtime_test('schedule_linear.qasm','ibmq_santiago')\n",
    "# ct = runtime_test('schedule3.qasm','ibmq_montreal')"
   ]
  },
  {
   "cell_type": "code",
   "execution_count": 10,
   "id": "b2789249",
   "metadata": {},
   "outputs": [
    {
     "name": "stdout",
     "output_type": "stream",
     "text": [
      "{'00000000': 1964, '00000001': 550, '00010000': 430, '00010001': 159, '00010010': 189, '00010011': 64, '00010100': 237, '00010101': 91, '00010110': 126, '00010111': 45, '00011000': 202, '00011001': 67, '00011010': 107, '00011011': 45, '00011100': 139, '00011101': 63, '00011110': 86, '00011111': 36, '00000010': 738, '00100000': 566, '00100001': 196, '00100010': 244, '00100011': 101, '00100100': 378, '00100101': 156, '00100110': 195, '00100111': 99, '00101000': 276, '00101001': 113, '00101010': 135, '00101011': 79, '00101100': 184, '00101101': 97, '00101110': 140, '00101111': 59, '00000011': 255, '00110000': 138, '00110001': 48, '00110010': 75, '00110011': 23, '00110100': 107, '00110101': 53, '00110110': 59, '00110111': 24, '00111000': 79, '00111001': 39, '00111010': 41, '00111011': 21, '00111100': 60, '00111101': 29, '00111110': 35, '00111111': 30, '00000100': 1093, '01000000': 518, '01000001': 176, '01000010': 192, '01000011': 66, '01000100': 302, '01000101': 127, '01000110': 154, '01000111': 55, '01001000': 253, '01001001': 88, '01001010': 124, '01001011': 58, '01001100': 143, '01001101': 56, '01001110': 88, '01001111': 36, '00000101': 335, '01010000': 121, '01010001': 44, '01010010': 72, '01010011': 24, '01010100': 77, '01010101': 30, '01010110': 41, '01010111': 23, '01011000': 69, '01011001': 20, '01011010': 31, '01011011': 22, '01011100': 49, '01011101': 17, '01011110': 34, '01011111': 7, '00000110': 496, '01100000': 169, '01100001': 63, '01100010': 62, '01100011': 43, '01100100': 128, '01100101': 49, '01100110': 68, '01100111': 25, '01101000': 91, '01101001': 43, '01101010': 53, '01101011': 36, '01101100': 65, '01101101': 48, '01101110': 50, '01101111': 26, '00000111': 184, '01110000': 39, '01110001': 29, '01110010': 22, '01110011': 13, '01110100': 30, '01110101': 15, '01110110': 16, '01110111': 13, '01111000': 29, '01111001': 18, '01111010': 20, '01111011': 5, '01111100': 6, '01111101': 7, '01111110': 11, '01111111': 6, '00001000': 714, '10000000': 148, '10000001': 25, '10000010': 52, '10000011': 21, '10000100': 68, '10000101': 13, '10000110': 25, '10000111': 15, '10001000': 54, '10001001': 13, '10001010': 29, '10001011': 7, '10001100': 37, '10001101': 17, '10001110': 13, '10001111': 5, '00001001': 257, '10010000': 16, '10010001': 9, '10010010': 8, '10010011': 11, '10010100': 19, '10010101': 7, '10010110': 12, '10010111': 6, '10011000': 17, '10011001': 3, '10011010': 6, '10011011': 2, '10011100': 16, '10011101': 4, '10011110': 5, '10011111': 1, '00001010': 430, '10100000': 35, '10100001': 15, '10100010': 15, '10100011': 11, '10100100': 24, '10100101': 6, '10100110': 15, '10100111': 9, '10101000': 19, '10101001': 10, '10101010': 9, '10101011': 3, '10101100': 12, '10101101': 8, '10101110': 6, '10101111': 2, '00001011': 154, '10110000': 6, '10110001': 6, '10110010': 2, '10110011': 4, '10110100': 3, '10110101': 2, '10110110': 2, '10110111': 3, '10111000': 8, '10111001': 2, '10111010': 2, '10111011': 1, '10111100': 5, '10111101': 1, '10111110': 2, '10111111': 4, '00001100': 464, '11000000': 52, '11000001': 14, '11000010': 23, '11000011': 10, '11000100': 48, '11000101': 6, '11000110': 13, '11000111': 5, '11001000': 27, '11001001': 6, '11001010': 9, '11001011': 2, '11001100': 14, '11001101': 5, '11001110': 9, '11001111': 2, '00001101': 170, '11010000': 10, '11010001': 4, '11010010': 12, '11010011': 4, '11010100': 7, '11010101': 5, '11010110': 3, '11010111': 3, '11011000': 2, '11011001': 1, '11011010': 8, '11011011': 3, '11011100': 3, '11011101': 1, '11011110': 1, '11011111': 1, '00001110': 320, '11100000': 13, '11100001': 6, '11100010': 10, '11100011': 4, '11100100': 9, '11100101': 6, '11100110': 5, '11100111': 7, '11101000': 3, '11101001': 6, '11101010': 8, '11101011': 2, '11101100': 4, '11101101': 1, '11101110': 7, '11101111': 5, '00001111': 120, '11110000': 5, '11110001': 3, '11110010': 2, '11110011': 1, '11110100': 6, '11110101': 2, '11110110': 2, '11110111': 2, '11111000': 2, '11111010': 2, '11111100': 2, '11111101': 1, '11111111': 1}\n"
     ]
    }
   ],
   "source": [
    "ct1 = runtime_test('schedule3.qasm','ibmq_toronto')\n",
    "# ct2 = runtime_test('schedule_linear.qasm','ibmq_guadalupe')\n",
    "# ct3 = runtime_test('schedule_baseline.qasm','ibmq_guadalupe')"
   ]
  },
  {
   "cell_type": "code",
   "execution_count": 134,
   "id": "31743ee6",
   "metadata": {},
   "outputs": [
    {
     "name": "stdout",
     "output_type": "stream",
     "text": [
      "0.137\n",
      "0.0409\n",
      "0.0721\n"
     ]
    }
   ],
   "source": [
    "print(ct1['00000000']/shots)\n",
    "print(ct2['00000000']/shots)\n",
    "print(ct3['00000000']/shots)"
   ]
  }
 ],
 "metadata": {
  "kernelspec": {
   "display_name": "Qiskit v0.33.1 (ipykernel)",
   "language": "python",
   "name": "python3"
  },
  "language_info": {
   "codemirror_mode": {
    "name": "ipython",
    "version": 3
   },
   "file_extension": ".py",
   "mimetype": "text/x-python",
   "name": "python",
   "nbconvert_exporter": "python",
   "pygments_lexer": "ipython3",
   "version": "3.9.7"
  },
  "widgets": {
   "application/vnd.jupyter.widget-state+json": {
    "state": {},
    "version_major": 2,
    "version_minor": 0
   }
  }
 },
 "nbformat": 4,
 "nbformat_minor": 5
}
