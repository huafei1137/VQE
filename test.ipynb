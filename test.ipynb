{
 "cells": [
  {
   "cell_type": "code",
   "execution_count": 4,
   "metadata": {},
   "outputs": [],
   "source": [
    "class Tree(object):\n",
    "    \"Generic tree node.\"\n",
    "    def __init__(self, name='root', children=None):\n",
    "        self.name = name\n",
    "        self.children = []\n",
    "        if children is not None:\n",
    "            for child in children:\n",
    "                self.add_child(child)\n",
    "    def __repr__(self):\n",
    "        return self.name\n",
    "    def add_child(self, node):\n",
    "        assert isinstance(node, Tree)\n",
    "        self.children.append(node)\n",
    "    \n",
    "def show(root):\n",
    "        queue= []\n",
    "        queue.append(root)\n",
    "        while len(queue) > 0 :\n",
    "            for i in range(len(queue)):\n",
    "                cur = queue.pop(0)\n",
    "                print(cur.name, end = '  ')\n",
    "                for child in cur.children:\n",
    "                    queue.append(child)\n",
    "            print('\\n******')\n",
    "\n",
    "        \n",
    "        \n",
    "        \n",
    "        # cur = root\n",
    "        # if cur is not None:\n",
    "        #     for child in cur.children:\n",
    "        #         show(child)\n",
    "        # else:\n",
    "        #     return\n",
    "\n",
    "#    0\n",
    "#   /|\\\n",
    "#  1 2 3\n",
    "#     / \\\n",
    "#    4   5\n",
    "t = Tree('0', [Tree('1'),\n",
    "               Tree('2'),\n",
    "               Tree('3', [Tree('4'),\n",
    "                          Tree('5')])])"
   ]
  },
  {
   "cell_type": "code",
   "execution_count": 5,
   "metadata": {},
   "outputs": [
    {
     "name": "stdout",
     "output_type": "stream",
     "text": [
      "0  \n",
      "******\n",
      "1  \n",
      "******\n"
     ]
    }
   ],
   "source": [
    "t2 = Tree('0')\n",
    "t2.add_child(Tree('1'))\n",
    "show(t2)"
   ]
  },
  {
   "cell_type": "code",
   "execution_count": 6,
   "metadata": {},
   "outputs": [],
   "source": [
    "import pprint\n",
    "from collections import defaultdict\n",
    "\n",
    "\n",
    "class Graph(object):\n",
    "    \"\"\" Graph data structure, undirected by default. \"\"\"\n",
    "\n",
    "    def __init__(self, connections, directed=False):\n",
    "        self._graph = defaultdict(set)\n",
    "        self._directed = directed\n",
    "        self.add_connections(connections)\n",
    "\n",
    "    def add_connections(self, connections):\n",
    "        \"\"\" Add connections (list of tuple pairs) to graph \"\"\"\n",
    "\n",
    "        for node1, node2 in connections:\n",
    "            self.add(node1, node2)\n",
    "\n",
    "    def add(self, node1, node2):\n",
    "        \"\"\" Add connection between node1 and node2 \"\"\"\n",
    "\n",
    "        self._graph[node1].add(node2)\n",
    "        if not self._directed:\n",
    "            self._graph[node2].add(node1)\n",
    "\n",
    "    def remove(self, node):\n",
    "        \"\"\" Remove all references to node \"\"\"\n",
    "\n",
    "        for n, cxns in self._graph.items():  # python3: items(); python2: iteritems()\n",
    "            try:\n",
    "                cxns.remove(node)\n",
    "            except KeyError:\n",
    "                pass\n",
    "        try:\n",
    "            del self._graph[node]\n",
    "        except KeyError:\n",
    "            pass\n",
    "\n",
    "    def is_connected(self, node1, node2):\n",
    "        \"\"\" Is node1 directly connected to node2 \"\"\"\n",
    "\n",
    "        return node1 in self._graph and node2 in self._graph[node1]\n",
    "\n",
    "    def find_path(self, node1, node2, path=[]):\n",
    "        \"\"\" Find any path between node1 and node2 (may not be shortest) \"\"\"\n",
    "\n",
    "        path = path + [node1]\n",
    "        if node1 == node2:\n",
    "            return path\n",
    "        if node1 not in self._graph:\n",
    "            return None\n",
    "        for node in self._graph[node1]:\n",
    "            if node not in path:\n",
    "                new_path = self.find_path(node, node2, path)\n",
    "                if new_path:\n",
    "                    return new_path\n",
    "        return None\n",
    "\n",
    "    def __str__(self):\n",
    "        return '{}({})'.format(self.__class__.__name__, dict(self._graph))"
   ]
  },
  {
   "cell_type": "code",
   "execution_count": 7,
   "metadata": {},
   "outputs": [
    {
     "name": "stdout",
     "output_type": "stream",
     "text": [
      "defaultdict(<class 'set'>,\n",
      "            {'0': {'1', '11'},\n",
      "             '1': {'0', '10', '2'},\n",
      "             '10': {'9', '1', '11'},\n",
      "             '11': {'0', '10'},\n",
      "             '2': {'1', '9', '3'},\n",
      "             '3': {'4', '6', '2'},\n",
      "             '4': {'8', '7', '3'},\n",
      "             '5': {'8', '7'},\n",
      "             '6': {'9', '7', '3'},\n",
      "             '7': {'4', '6', '5'},\n",
      "             '8': {'4', '5'},\n",
      "             '9': {'2', '6', '10'}})\n",
      "defaultdict(<class 'set'>, {'1': {'0', '10', '2'}, '2': {'1', '9', '3'}, '0': {'1', '11'}, '3': {'4', '6', '2'}, '4': {'8', '7', '3'}, '8': {'4', '5'}, '5': {'8', '7'}, '7': {'4', '6', '5'}, '6': {'9', '7', '3'}, '9': {'2', '6', '10'}, '10': {'9', '1', '11'}, '11': {'0', '10'}})\n",
      "12\n"
     ]
    }
   ],
   "source": [
    "\n",
    "# g = Graph(connections, directed=False)\n",
    "# pretty_print = pprint.PrettyPrinter()\n",
    "# pretty_print.pprint(g._graph)\n",
    "couplings = [('1','2'),('0','1'),('2','3'),('3','4'),('4','8'),('5','7'),('7','6'),('6','9'),('9','10'),('10','11'),('0','11'),('1','10'),('2','9'),('3','6'),('4','7'),('8','5')]\n",
    "g = Graph(couplings, directed=False)\n",
    "pretty_print = pprint.PrettyPrinter()\n",
    "pretty_print.pprint(g._graph)\n",
    "print((g._graph))\n",
    "print(len(g._graph))\n",
    "arr = []\n",
    "counter =-1\n",
    "\n",
    "for r in range(len(g._graph)):\n",
    "  row = []\n",
    "  for c in range(len(g._graph)):\n",
    "    row.append(counter)\n",
    "  arr.append(row)\n",
    "\n",
    "\n"
   ]
  },
  {
   "cell_type": "code",
   "execution_count": 21,
   "metadata": {},
   "outputs": [],
   "source": [
    "from collections import deque\n",
    "#using bfs to calculate distance\n",
    "def bfs(graph, i, j):\n",
    "    dis = 0\n",
    "    queue = deque(str(i))\n",
    "    while queue:\n",
    "        for i in range(len(queue)):\n",
    "\n",
    "            cur = queue.popleft()\n",
    "            if cur == str(j):\n",
    "                #print(\"find!!\")\n",
    "                return dis\n",
    "            else:\n",
    "                for child in graph[cur]:\n",
    "                    queue.append(child)\n",
    "        dis += 1\n",
    "from collections import deque\n",
    "\n",
    "def connected_components(graph,mylist):\n",
    "    seen = set()\n",
    "    # graph = modified(graph,mylist)\n",
    "    for root in range(len(graph)):\n",
    "        if str(root) not in seen and str(root) in mylist:\n",
    "            seen.add(str(root))\n",
    "            component = []\n",
    "            queue = deque([str(root)])\n",
    "\n",
    "            while queue:\n",
    "                node = queue.popleft()\n",
    "                component.append(node)\n",
    "                for neighbor in graph[node]:\n",
    "                    if neighbor not in seen and neighbor in mylist:\n",
    "                        seen.add(neighbor)\n",
    "                        queue.append(neighbor)\n",
    "            yield component\n",
    "#generating distance matrix\n",
    "def distance_matrix(graph,arr):\n",
    "    for i in range(len(arr)):\n",
    "        for j in range(len(arr)):\n",
    "            if i == j :\n",
    "                arr[i][j] = 0\n",
    "            else:\n",
    "                arr[i][j] = bfs(graph,i,j)\n",
    "    return arr\n",
    "\n",
    "def get_distance(dis,component,s,mapping):\n",
    "    ans = 100\n",
    "    \n",
    "    for j in component:\n",
    "        ans = min(dis[mapping[int(s)]][mapping[int(j)]],ans)\n",
    "    \n",
    "    return ans\n",
    "\n",
    "def find_path(graph,component,mapping,distancematrix):\n",
    "    biggest = component[0]\n",
    "    avail = [True for i in range(len(mapping))]\n",
    "    for i in range(len(component)-1):\n",
    "        cur = component[i+1]\n",
    "        for j in cur :\n",
    "            print(j)\n",
    "            for k in range(len(avail)):\n",
    "                if avail[k] and distancematrix[int(j)][int(k)] == 1:\n",
    "                    print(f\"we can add swap between qubit{j} and qubit{k}\")\n",
    "        #print(cur)\n",
    "    return"
   ]
  },
  {
   "cell_type": "code",
   "execution_count": 22,
   "metadata": {},
   "outputs": [
    {
     "name": "stdout",
     "output_type": "stream",
     "text": [
      "2\n",
      "4\n",
      "[[0, 1, 2, 3, 4, 6, 4, 5, 5, 3, 2, 1], [1, 0, 1, 2, 3, 5, 3, 4, 4, 2, 1, 2], [2, 1, 0, 1, 2, 4, 2, 3, 3, 1, 2, 3], [3, 2, 1, 0, 1, 3, 1, 2, 2, 2, 3, 4], [4, 3, 2, 1, 0, 2, 2, 1, 1, 3, 4, 5], [6, 5, 4, 3, 2, 0, 2, 1, 1, 3, 4, 5], [4, 3, 2, 1, 2, 2, 0, 1, 3, 1, 2, 3], [5, 4, 3, 2, 1, 1, 1, 0, 2, 2, 3, 4], [5, 4, 3, 2, 1, 1, 3, 2, 0, 4, 5, 6], [3, 2, 1, 2, 3, 3, 1, 2, 4, 0, 1, 2], [0, 0, 1, 2, 3, 5, 3, 4, 4, 2, 0, 1], [1, 0, 1, 2, 3, 5, 3, 4, 4, 2, 1, 0]]\n",
      "4\n",
      "[0, 1, 2, 3, 4, 5, 6, 7, 8, 9, 10, 11]\n",
      "['0', '1', '2', '9', '3']\n",
      "['5', '8']\n",
      "2\n",
      "***************\n",
      "5\n",
      "we can add swap between qubit5 and qubit7\n",
      "we can add swap between qubit5 and qubit8\n",
      "8\n",
      "we can add swap between qubit8 and qubit4\n",
      "we can add swap between qubit8 and qubit5\n"
     ]
    }
   ],
   "source": [
    "print(arr[0][2])\n",
    "print(bfs(g._graph,0,6))\n",
    "distancematrix = distance_matrix(g._graph, arr)\n",
    "print(distancematrix)\n",
    "print(distancematrix[0][6])\n",
    "mapping = [i for i in range(len(arr))]\n",
    "print(mapping)\n",
    "res = list(connected_components(g._graph,['0','1','2','3','9','5','8']))\n",
    "print(res[0])\n",
    "for i in range(len(res)-1):\n",
    "    cur = res[i+1]\n",
    "    print(cur)\n",
    "print(get_distance(distancematrix,res[0],'8',mapping))\n",
    "print('***************')\n",
    "find_path(g._graph,res,mapping,distancematrix)"
   ]
  },
  {
   "cell_type": "code",
   "execution_count": 34,
   "metadata": {},
   "outputs": [],
   "source": [
    "def modified(graph,mylist):\n",
    "    intlist = []\n",
    "    for k in graph:\n",
    "        temp = []\n",
    "        if k in mylist:\n",
    "            for j in graph[k]:\n",
    "                if j in mylist:\n",
    "                    temp.append(int(j))\n",
    "            intlist.append(temp)\n",
    "    return intlist"
   ]
  },
  {
   "cell_type": "code",
   "execution_count": 35,
   "metadata": {},
   "outputs": [],
   "source": []
  },
  {
   "cell_type": "code",
   "execution_count": 8,
   "metadata": {},
   "outputs": [
    {
     "name": "stdout",
     "output_type": "stream",
     "text": [
      "{'10', '0', '2'}\n"
     ]
    }
   ],
   "source": [
    "print(g._graph[str(1)])"
   ]
  },
  {
   "cell_type": "code",
   "execution_count": null,
   "metadata": {},
   "outputs": [],
   "source": [
    "def findpath(graph,component,node):\n",
    "    queue = deque(node)\n",
    "    flag = False\n",
    "    res = []\n",
    "    while queue:\n",
    "        cur = queue.popleft()\n",
    "        \n",
    "    return "
   ]
  },
  {
   "cell_type": "code",
   "execution_count": 13,
   "metadata": {},
   "outputs": [
    {
     "name": "stdout",
     "output_type": "stream",
     "text": [
      "['0', '1', '2', '3', '6', '4']\n"
     ]
    }
   ],
   "source": [
    "print(res[0])\n",
    "#findpath(g._graph,res[0],res[len(res)-1])"
   ]
  },
  {
   "cell_type": "code",
   "execution_count": 18,
   "metadata": {},
   "outputs": [],
   "source": [
    "def convert_to_tree(graph, root,mylist,check):\n",
    "    converttree = Tree(root)\n",
    "    #return converttree\n",
    "    if len(graph[root]) > 0:\n",
    "        #print('find')\n",
    "        for child in graph[root]:\n",
    "            print(f'child number is {child}')\n",
    "            if int(child) < len(mylist) and check[int(child)]==False and child in mylist:\n",
    "                check[int(child)] = True\n",
    "                #print('match')\n",
    "                converttree.add_child(convert_to_tree(graph,child,mylist,check))\n",
    "    else:\n",
    "        return converttree\n",
    "    return converttree\n",
    "    \n",
    "        "
   ]
  },
  {
   "cell_type": "code",
   "execution_count": 20,
   "metadata": {},
   "outputs": [
    {
     "name": "stdout",
     "output_type": "stream",
     "text": [
      "child number is 4\n",
      "child number is 8\n",
      "child number is 7\n",
      "child number is 3\n",
      "child number is 6\n",
      "child number is 7\n",
      "child number is 9\n",
      "child number is 3\n",
      "child number is 2\n",
      "child number is 1\n",
      "child number is 10\n",
      "child number is 0\n",
      "child number is 1\n",
      "child number is 11\n",
      "child number is 2\n",
      "child number is 9\n",
      "child number is 3\n",
      "3  \n",
      "******\n",
      "4  6  2  \n",
      "******\n",
      "1  \n",
      "******\n",
      "0  \n",
      "******\n"
     ]
    }
   ],
   "source": [
    "myl = ['0','1','2','3','4','5','6']\n",
    "check = [False for i in range(len(myl))]\n",
    "check[3] = True\n",
    "myt = convert_to_tree(g._graph,'3', myl, check)\n",
    "\n",
    "show(myt)"
   ]
  },
  {
   "cell_type": "code",
   "execution_count": 21,
   "metadata": {},
   "outputs": [
    {
     "name": "stdout",
     "output_type": "stream",
     "text": [
      "3  \n",
      "******\n",
      "4  6  2  \n",
      "******\n",
      "1  \n",
      "******\n",
      "0  \n",
      "******\n"
     ]
    }
   ],
   "source": [
    "show(myt)"
   ]
  },
  {
   "cell_type": "code",
   "execution_count": 22,
   "metadata": {},
   "outputs": [],
   "source": [
    "def calculate_depth(mylist):\n",
    "    mylist.sort()\n",
    "    for i in range(len(mylist)):\n",
    "        if i == 0 :\n",
    "            continue\n",
    "        else:\n",
    "            mylist[i] = max(mylist[i],mylist[i-1]+1)\n",
    "    return mylist"
   ]
  },
  {
   "cell_type": "code",
   "execution_count": 23,
   "metadata": {},
   "outputs": [],
   "source": [
    "def calculate_depth_value(mylist):\n",
    "    mylist.sort()\n",
    "    for i in range(len(mylist)):\n",
    "        if i == 0 :\n",
    "            continue\n",
    "        else:\n",
    "            mylist[i] = max(mylist[i],mylist[i-1]+1)\n",
    "    return mylist[len(mylist)-1]"
   ]
  },
  {
   "cell_type": "code",
   "execution_count": 24,
   "metadata": {},
   "outputs": [
    {
     "name": "stdout",
     "output_type": "stream",
     "text": [
      "[2, 3, 4, 5]\n",
      "5\n"
     ]
    }
   ],
   "source": [
    "list = [3,2,2,3]\n",
    "print(calculate_depth(list))\n",
    "print(calculate_depth_value(list))"
   ]
  },
  {
   "cell_type": "code",
   "execution_count": 25,
   "metadata": {},
   "outputs": [],
   "source": [
    "def calculate(root):\n",
    "    print(root.name)\n",
    "    \n",
    "    if root.children:\n",
    "        list = []\n",
    "        # for child in root.children:\n",
    "        #     list.append(calculate(child))\n",
    "        list =  [calculate(child) for child in root.children]\n",
    "        print(list)\n",
    "        ans = calculate_depth_value(list)\n",
    "        print(ans)\n",
    "        return ans\n",
    "    else:\n",
    "        return 1\n",
    "        \n",
    "    "
   ]
  },
  {
   "cell_type": "code",
   "execution_count": 26,
   "metadata": {},
   "outputs": [
    {
     "name": "stdout",
     "output_type": "stream",
     "text": [
      "0\n",
      "1\n",
      "2\n",
      "3\n",
      "4\n",
      "5\n",
      "[1, 1]\n",
      "2\n",
      "[1, 1, 2]\n",
      "3\n"
     ]
    },
    {
     "data": {
      "text/plain": [
       "3"
      ]
     },
     "execution_count": 26,
     "metadata": {},
     "output_type": "execute_result"
    }
   ],
   "source": [
    "#calculate depth\n",
    "calculate(t)"
   ]
  }
 ],
 "metadata": {
  "interpreter": {
   "hash": "033160e15c695bf80c178e91a99b504a8c26cda4ad2dbcd63486bcd2ff5310dd"
  },
  "kernelspec": {
   "display_name": "Python 3.9.7 64-bit ('fei': conda)",
   "name": "python3"
  },
  "language_info": {
   "codemirror_mode": {
    "name": "ipython",
    "version": 3
   },
   "file_extension": ".py",
   "mimetype": "text/x-python",
   "name": "python",
   "nbconvert_exporter": "python",
   "pygments_lexer": "ipython3",
   "version": "3.9.7"
  },
  "orig_nbformat": 4
 },
 "nbformat": 4,
 "nbformat_minor": 2
}
