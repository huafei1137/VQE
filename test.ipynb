{
 "cells": [
  {
   "cell_type": "code",
   "execution_count": 1,
   "metadata": {},
   "outputs": [],
   "source": [
    "class Tree(object):\n",
    "    \"Generic tree node.\"\n",
    "    def __init__(self, name='root', children=None):\n",
    "        self.name = name\n",
    "        self.children = []\n",
    "        if children is not None:\n",
    "            for child in children:\n",
    "                self.add_child(child)\n",
    "    def __repr__(self):\n",
    "        return self.name\n",
    "    def add_child(self, node):\n",
    "        assert isinstance(node, Tree)\n",
    "        self.children.append(node)\n",
    "    \n",
    "def show(root):\n",
    "        queue= []\n",
    "        queue.append(root)\n",
    "        while len(queue) > 0 :\n",
    "            for i in range(len(queue)):\n",
    "                cur = queue.pop(0)\n",
    "                print(cur.name, end = '  ')\n",
    "                for child in cur.children:\n",
    "                    queue.append(child)\n",
    "            print('\\n******')\n",
    "\n",
    "        \n",
    "        \n",
    "        \n",
    "        # cur = root\n",
    "        # if cur is not None:\n",
    "        #     for child in cur.children:\n",
    "        #         show(child)\n",
    "        # else:\n",
    "        #     return\n",
    "\n",
    "#    0\n",
    "#   /|\\\n",
    "#  1 2 3\n",
    "#     / \\\n",
    "#    4   5\n",
    "t = Tree('0', [Tree('1'),\n",
    "               Tree('2'),\n",
    "               Tree('3', [Tree('4'),\n",
    "                          Tree('5')])])"
   ]
  },
  {
   "cell_type": "code",
   "execution_count": 2,
   "metadata": {},
   "outputs": [
    {
     "name": "stdout",
     "output_type": "stream",
     "text": [
      "0  \n",
      "******\n",
      "1  \n",
      "******\n"
     ]
    }
   ],
   "source": [
    "t2 = Tree('0')\n",
    "t2.add_child(Tree('1'))\n",
    "show(t2)"
   ]
  },
  {
   "cell_type": "code",
   "execution_count": 4,
   "metadata": {},
   "outputs": [],
   "source": [
    "import pprint\n",
    "from collections import defaultdict\n",
    "\n",
    "\n",
    "class Graph(object):\n",
    "    \"\"\" Graph data structure, undirected by default. \"\"\"\n",
    "\n",
    "    def __init__(self, connections, directed=False):\n",
    "        self._graph = defaultdict(set)\n",
    "        self._directed = directed\n",
    "        self.add_connections(connections)\n",
    "\n",
    "    def add_connections(self, connections):\n",
    "        \"\"\" Add connections (list of tuple pairs) to graph \"\"\"\n",
    "\n",
    "        for node1, node2 in connections:\n",
    "            self.add(node1, node2)\n",
    "\n",
    "    def add(self, node1, node2):\n",
    "        \"\"\" Add connection between node1 and node2 \"\"\"\n",
    "\n",
    "        self._graph[node1].add(node2)\n",
    "        if not self._directed:\n",
    "            self._graph[node2].add(node1)\n",
    "\n",
    "    def remove(self, node):\n",
    "        \"\"\" Remove all references to node \"\"\"\n",
    "\n",
    "        for n, cxns in self._graph.items():  # python3: items(); python2: iteritems()\n",
    "            try:\n",
    "                cxns.remove(node)\n",
    "            except KeyError:\n",
    "                pass\n",
    "        try:\n",
    "            del self._graph[node]\n",
    "        except KeyError:\n",
    "            pass\n",
    "\n",
    "    def is_connected(self, node1, node2):\n",
    "        \"\"\" Is node1 directly connected to node2 \"\"\"\n",
    "\n",
    "        return node1 in self._graph and node2 in self._graph[node1]\n",
    "\n",
    "    def find_path(self, node1, node2, path=[]):\n",
    "        \"\"\" Find any path between node1 and node2 (may not be shortest) \"\"\"\n",
    "\n",
    "        path = path + [node1]\n",
    "        if node1 == node2:\n",
    "            return path\n",
    "        if node1 not in self._graph:\n",
    "            return None\n",
    "        for node in self._graph[node1]:\n",
    "            if node not in path:\n",
    "                new_path = self.find_path(node, node2, path)\n",
    "                if new_path:\n",
    "                    return new_path\n",
    "        return None\n",
    "\n",
    "    def __str__(self):\n",
    "        return '{}({})'.format(self.__class__.__name__, dict(self._graph))"
   ]
  },
  {
   "cell_type": "code",
   "execution_count": 55,
   "metadata": {},
   "outputs": [
    {
     "name": "stdout",
     "output_type": "stream",
     "text": [
      "defaultdict(<class 'set'>,\n",
      "            {'0': {'1', '11'},\n",
      "             '1': {'2', '10', '0'},\n",
      "             '10': {'1', '9', '11'},\n",
      "             '11': {'0', '10'},\n",
      "             '2': {'1', '9', '3'},\n",
      "             '3': {'6', '2', '4'},\n",
      "             '4': {'8', '3', '7'},\n",
      "             '5': {'8', '7'},\n",
      "             '6': {'9', '3', '7'},\n",
      "             '7': {'6', '4', '5'},\n",
      "             '8': {'4', '5'},\n",
      "             '9': {'6', '2', '10'}})\n",
      "defaultdict(<class 'set'>, {'1': {'2', '10', '0'}, '2': {'1', '9', '3'}, '0': {'1', '11'}, '3': {'6', '2', '4'}, '4': {'8', '3', '7'}, '8': {'4', '5'}, '5': {'8', '7'}, '7': {'6', '4', '5'}, '6': {'9', '3', '7'}, '9': {'6', '2', '10'}, '10': {'1', '9', '11'}, '11': {'0', '10'}})\n"
     ]
    }
   ],
   "source": [
    "\n",
    "# g = Graph(connections, directed=False)\n",
    "# pretty_print = pprint.PrettyPrinter()\n",
    "# pretty_print.pprint(g._graph)\n",
    "couplings = [('1','2'),('0','1'),('2','3'),('3','4'),('4','8'),('5','7'),('7','6'),('6','9'),('9','10'),('10','11'),('0','11'),('1','10'),('2','9'),('3','6'),('4','7'),('8','5')]\n",
    "g = Graph(couplings, directed=False)\n",
    "pretty_print = pprint.PrettyPrinter()\n",
    "pretty_print.pprint(g._graph)\n",
    "print((g._graph))"
   ]
  },
  {
   "cell_type": "code",
   "execution_count": 40,
   "metadata": {},
   "outputs": [],
   "source": [
    "def modified(graph,mylist):\n",
    "    intlist = []\n",
    "    for k in graph:\n",
    "        temp = []\n",
    "        if k in mylist:\n",
    "            for j in graph[k]:\n",
    "                if j in mylist:\n",
    "                    temp.append(int(j))\n",
    "            intlist.append(temp)\n",
    "    return intlist"
   ]
  },
  {
   "cell_type": "code",
   "execution_count": 68,
   "metadata": {},
   "outputs": [],
   "source": [
    "from collections import deque\n",
    "\n",
    "def connected_components(graph,mylist):\n",
    "    seen = set()\n",
    "    # graph = modified(graph,mylist)\n",
    "    for root in range(len(graph)):\n",
    "        if str(root) not in seen and str(root) in mylist:\n",
    "            seen.add(str(root))\n",
    "            component = []\n",
    "            queue = deque([str(root)])\n",
    "\n",
    "            while queue:\n",
    "                node = queue.popleft()\n",
    "                component.append(node)\n",
    "                for neighbor in graph[node]:\n",
    "                    if neighbor not in seen and neighbor in mylist:\n",
    "                        seen.add(neighbor)\n",
    "                        queue.append(neighbor)\n",
    "            yield component"
   ]
  },
  {
   "cell_type": "code",
   "execution_count": 60,
   "metadata": {},
   "outputs": [
    {
     "name": "stdout",
     "output_type": "stream",
     "text": [
      "{'2', '10', '0'}\n"
     ]
    }
   ],
   "source": [
    "print(g._graph[str(1)])"
   ]
  },
  {
   "cell_type": "code",
   "execution_count": 71,
   "metadata": {},
   "outputs": [
    {
     "name": "stdout",
     "output_type": "stream",
     "text": [
      "[['0', '1'], ['8']]\n"
     ]
    }
   ],
   "source": [
    "print(list(connected_components(g._graph,['0','1','8'])))"
   ]
  },
  {
   "cell_type": "code",
   "execution_count": 46,
   "metadata": {},
   "outputs": [],
   "source": [
    "def convert_to_tree(graph, root,mylist,check):\n",
    "     \n",
    "    converttree = Tree(root)\n",
    "    # return converttree\n",
    "\n",
    "\n",
    "   \n",
    "    if len(graph[root]) > 0:\n",
    "        # print('find')\n",
    "        for child in graph[root]:\n",
    "            print(f'child number is {child}')\n",
    "            if int(child) < len(mylist) and check[int(child)]==False and child in mylist:\n",
    "                check[int(child)] = True\n",
    "                # print('match')\n",
    "                converttree.add_child(convert_to_tree(graph,child,mylist,check))\n",
    "    else:\n",
    "        return converttree\n",
    "    return converttree\n",
    "                \n",
    "    # queue = []\n",
    "    # queue.append(n)\n",
    "    \n",
    "    # if len(graph[n]) == 0:\n",
    "    #     return converttree\n",
    "    # check = [False for i in range(len(mylist)) ]\n",
    "    # while len(queue) > 0 :\n",
    "    #         for i in range(len(queue)):\n",
    "    #             cur = queue.pop(0)\n",
    "    #             for child in cur.children:\n",
    "    #                 queue.append(child)\n",
    "    #         print('\\n******')\n",
    "    \n",
    "        "
   ]
  },
  {
   "cell_type": "code",
   "execution_count": 49,
   "metadata": {},
   "outputs": [
    {
     "name": "stdout",
     "output_type": "stream",
     "text": [
      "child number is 4\n",
      "child number is 3\n",
      "child number is 7\n",
      "child number is 8\n",
      "child number is 2\n",
      "child number is 3\n",
      "child number is 1\n",
      "child number is 10\n",
      "child number is 0\n",
      "child number is 11\n",
      "child number is 1\n",
      "child number is 2\n",
      "child number is 9\n",
      "child number is 6\n",
      "child number is 9\n",
      "child number is 3\n",
      "child number is 7\n",
      "3  \n",
      "******\n",
      "4  2  6  \n",
      "******\n",
      "1  \n",
      "******\n",
      "0  \n",
      "******\n"
     ]
    }
   ],
   "source": [
    "myl = ['0','1','2','3','4','5','6']\n",
    "check = [False for i in range(len(myl))]\n",
    "check[3] = True\n",
    "myt = convert_to_tree(g._graph,'3', myl, check)\n",
    "\n",
    "show(myt)"
   ]
  },
  {
   "cell_type": "code",
   "execution_count": 50,
   "metadata": {},
   "outputs": [
    {
     "name": "stdout",
     "output_type": "stream",
     "text": [
      "3  \n",
      "******\n",
      "4  2  6  \n",
      "******\n",
      "1  \n",
      "******\n",
      "0  \n",
      "******\n"
     ]
    }
   ],
   "source": [
    "show(myt)"
   ]
  },
  {
   "cell_type": "code",
   "execution_count": 28,
   "metadata": {},
   "outputs": [],
   "source": [
    "def calculate_depth(mylist):\n",
    "    mylist.sort()\n",
    "    for i in range(len(mylist)):\n",
    "        if i == 0 :\n",
    "            continue\n",
    "        else:\n",
    "            mylist[i] = max(mylist[i],mylist[i-1]+1)\n",
    "    return mylist"
   ]
  },
  {
   "cell_type": "code",
   "execution_count": 27,
   "metadata": {},
   "outputs": [],
   "source": [
    "def calculate_depth_value(mylist):\n",
    "    mylist.sort()\n",
    "    for i in range(len(mylist)):\n",
    "        if i == 0 :\n",
    "            continue\n",
    "        else:\n",
    "            mylist[i] = max(mylist[i],mylist[i-1]+1)\n",
    "    return mylist[len(mylist)-1]"
   ]
  },
  {
   "cell_type": "code",
   "execution_count": 33,
   "metadata": {},
   "outputs": [
    {
     "name": "stdout",
     "output_type": "stream",
     "text": [
      "[2, 3, 4, 5]\n",
      "5\n"
     ]
    }
   ],
   "source": [
    "list = [3,2,2,3]\n",
    "print(calculate_depth(list))\n",
    "print(calculate_depth_value(list))"
   ]
  },
  {
   "cell_type": "code",
   "execution_count": 34,
   "metadata": {},
   "outputs": [],
   "source": [
    "def calculate(root):\n",
    "    print(root.name)\n",
    "    \n",
    "    if root.children:\n",
    "        list = []\n",
    "        # for child in root.children:\n",
    "        #     list.append(calculate(child))\n",
    "        list =  [calculate(child) for child in root.children]\n",
    "        print(list)\n",
    "        ans = calculate_depth_value(list)\n",
    "        print(ans)\n",
    "        return ans\n",
    "    else:\n",
    "        return 1\n",
    "        \n",
    "    "
   ]
  },
  {
   "cell_type": "code",
   "execution_count": 35,
   "metadata": {},
   "outputs": [
    {
     "name": "stdout",
     "output_type": "stream",
     "text": [
      "0\n",
      "1\n",
      "2\n",
      "3\n",
      "4\n",
      "5\n",
      "[1, 1]\n",
      "2\n",
      "[1, 1, 2]\n",
      "3\n"
     ]
    },
    {
     "data": {
      "text/plain": [
       "3"
      ]
     },
     "execution_count": 35,
     "metadata": {},
     "output_type": "execute_result"
    }
   ],
   "source": [
    "#calculate depth\n",
    "calculate(t)"
   ]
  }
 ],
 "metadata": {
  "interpreter": {
   "hash": "033160e15c695bf80c178e91a99b504a8c26cda4ad2dbcd63486bcd2ff5310dd"
  },
  "kernelspec": {
   "display_name": "Python 3.9.7 64-bit ('fei': conda)",
   "name": "python3"
  },
  "language_info": {
   "codemirror_mode": {
    "name": "ipython",
    "version": 3
   },
   "file_extension": ".py",
   "mimetype": "text/x-python",
   "name": "python",
   "nbconvert_exporter": "python",
   "pygments_lexer": "ipython3",
   "version": "3.9.10"
  },
  "orig_nbformat": 4
 },
 "nbformat": 4,
 "nbformat_minor": 2
}
